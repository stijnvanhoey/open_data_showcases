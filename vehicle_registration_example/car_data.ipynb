{
 "cells": [
  {
   "cell_type": "code",
   "execution_count": 1,
   "metadata": {
    "collapsed": true
   },
   "outputs": [],
   "source": [
    "%matplotlib inline"
   ]
  },
  {
   "cell_type": "markdown",
   "metadata": {},
   "source": [
    "# Vehicle registration in Belgium (2014)"
   ]
  },
  {
   "cell_type": "markdown",
   "metadata": {},
   "source": [
    "Data downloaded from http://mobilit.belgium.be/nl/publicaties/open_data/,\n",
    "just some data-visualisation and screening of the dataset.\n",
    "\n",
    "*Stijn Van Hoey, 2015*"
   ]
  },
  {
   "cell_type": "code",
   "execution_count": 2,
   "metadata": {
    "collapsed": true
   },
   "outputs": [],
   "source": [
    "import pandas as pad\n",
    "import matplotlib.pyplot as plt\n",
    "import seaborn as sns"
   ]
  },
  {
   "cell_type": "code",
   "execution_count": 3,
   "metadata": {
    "collapsed": false
   },
   "outputs": [],
   "source": [
    "registered = pd.read_excel(\"Registration transactions 2014_tcm466-262543.xlsx\", header=2)"
   ]
  },
  {
   "cell_type": "code",
   "execution_count": 4,
   "metadata": {
    "collapsed": false
   },
   "outputs": [
    {
     "data": {
      "text/html": [
       "<div style=\"max-height:1000px;max-width:1500px;overflow:auto;\">\n",
       "<table border=\"1\" class=\"dataframe\">\n",
       "  <thead>\n",
       "    <tr style=\"text-align: right;\">\n",
       "      <th></th>\n",
       "      <th>Transaction Timest Year</th>\n",
       "      <th>Transaction Timest Month Code</th>\n",
       "      <th>New/Used Vehicle</th>\n",
       "      <th>Region Gewest</th>\n",
       "      <th>Province_label</th>\n",
       "      <th>Titular Type</th>\n",
       "      <th>Vehicle grouping by Design</th>\n",
       "      <th>Vehicle grouping by use</th>\n",
       "      <th>Exact Value Maxmass Cat</th>\n",
       "      <th>Fk M Vehicle Buildupcode Current Situation</th>\n",
       "      <th>Buildup Label current situation</th>\n",
       "      <th>Vehicle Euro Norm Code</th>\n",
       "      <th>CO2 Category</th>\n",
       "      <th>Vehicle Fuel Code</th>\n",
       "      <th>Vehicle Fuel Label</th>\n",
       "      <th># Transactions</th>\n",
       "    </tr>\n",
       "  </thead>\n",
       "  <tbody>\n",
       "    <tr>\n",
       "      <th>0</th>\n",
       "      <td>2014</td>\n",
       "      <td>1</td>\n",
       "      <td>New Vehicle</td>\n",
       "      <td>BRU</td>\n",
       "      <td>Brussel</td>\n",
       "      <td>M</td>\n",
       "      <td>L</td>\n",
       "      <td>HEAVY 2-3-4 W</td>\n",
       "      <td>1-1000</td>\n",
       "      <td>NaN</td>\n",
       "      <td>NaN</td>\n",
       "      <td>2</td>\n",
       "      <td>99</td>\n",
       "      <td>01</td>\n",
       "      <td>BENZINE</td>\n",
       "      <td>3</td>\n",
       "    </tr>\n",
       "    <tr>\n",
       "      <th>1</th>\n",
       "      <td>2014</td>\n",
       "      <td>1</td>\n",
       "      <td>New Vehicle</td>\n",
       "      <td>BRU</td>\n",
       "      <td>Brussel</td>\n",
       "      <td>M</td>\n",
       "      <td>L</td>\n",
       "      <td>HEAVY 2-3-4 W</td>\n",
       "      <td>1-1000</td>\n",
       "      <td>NaN</td>\n",
       "      <td>NaN</td>\n",
       "      <td>3</td>\n",
       "      <td>99</td>\n",
       "      <td>01</td>\n",
       "      <td>BENZINE</td>\n",
       "      <td>23</td>\n",
       "    </tr>\n",
       "    <tr>\n",
       "      <th>2</th>\n",
       "      <td>2014</td>\n",
       "      <td>1</td>\n",
       "      <td>New Vehicle</td>\n",
       "      <td>BRU</td>\n",
       "      <td>Brussel</td>\n",
       "      <td>M</td>\n",
       "      <td>L</td>\n",
       "      <td>HEAVY 2-3-4 W</td>\n",
       "      <td>Unknown</td>\n",
       "      <td>NaN</td>\n",
       "      <td>NaN</td>\n",
       "      <td>3</td>\n",
       "      <td>99</td>\n",
       "      <td>01</td>\n",
       "      <td>BENZINE</td>\n",
       "      <td>1</td>\n",
       "    </tr>\n",
       "    <tr>\n",
       "      <th>3</th>\n",
       "      <td>2014</td>\n",
       "      <td>1</td>\n",
       "      <td>New Vehicle</td>\n",
       "      <td>BRU</td>\n",
       "      <td>Brussel</td>\n",
       "      <td>M</td>\n",
       "      <td>M1</td>\n",
       "      <td>CAR</td>\n",
       "      <td>1501-3000</td>\n",
       "      <td>NaN</td>\n",
       "      <td>NaN</td>\n",
       "      <td>5</td>\n",
       "      <td>99</td>\n",
       "      <td>01</td>\n",
       "      <td>BENZINE</td>\n",
       "      <td>1</td>\n",
       "    </tr>\n",
       "    <tr>\n",
       "      <th>4</th>\n",
       "      <td>2014</td>\n",
       "      <td>1</td>\n",
       "      <td>New Vehicle</td>\n",
       "      <td>BRU</td>\n",
       "      <td>Brussel</td>\n",
       "      <td>M</td>\n",
       "      <td>M1</td>\n",
       "      <td>CAR</td>\n",
       "      <td>1501-3000</td>\n",
       "      <td>NaN</td>\n",
       "      <td>NaN</td>\n",
       "      <td>5b</td>\n",
       "      <td>99</td>\n",
       "      <td>07</td>\n",
       "      <td>BENZINE + ELEKTR.</td>\n",
       "      <td>1</td>\n",
       "    </tr>\n",
       "  </tbody>\n",
       "</table>\n",
       "</div>"
      ],
      "text/plain": [
       "   Transaction Timest Year  Transaction Timest Month Code New/Used Vehicle  \\\n",
       "0                     2014                              1      New Vehicle   \n",
       "1                     2014                              1      New Vehicle   \n",
       "2                     2014                              1      New Vehicle   \n",
       "3                     2014                              1      New Vehicle   \n",
       "4                     2014                              1      New Vehicle   \n",
       "\n",
       "  Region Gewest Province_label Titular Type Vehicle grouping by Design  \\\n",
       "0           BRU        Brussel            M                          L   \n",
       "1           BRU        Brussel            M                          L   \n",
       "2           BRU        Brussel            M                          L   \n",
       "3           BRU        Brussel            M                         M1   \n",
       "4           BRU        Brussel            M                         M1   \n",
       "\n",
       "  Vehicle grouping by use Exact Value Maxmass Cat  \\\n",
       "0           HEAVY 2-3-4 W                  1-1000   \n",
       "1           HEAVY 2-3-4 W                  1-1000   \n",
       "2           HEAVY 2-3-4 W                 Unknown   \n",
       "3                     CAR               1501-3000   \n",
       "4                     CAR               1501-3000   \n",
       "\n",
       "  Fk M Vehicle Buildupcode Current Situation Buildup Label current situation  \\\n",
       "0                                        NaN                             NaN   \n",
       "1                                        NaN                             NaN   \n",
       "2                                        NaN                             NaN   \n",
       "3                                        NaN                             NaN   \n",
       "4                                        NaN                             NaN   \n",
       "\n",
       "  Vehicle Euro Norm Code  CO2 Category Vehicle Fuel Code Vehicle Fuel Label  \\\n",
       "0                    2              99                01            BENZINE   \n",
       "1                    3              99                01            BENZINE   \n",
       "2                    3              99                01            BENZINE   \n",
       "3                    5              99                01            BENZINE   \n",
       "4                    5b             99                07  BENZINE + ELEKTR.   \n",
       "\n",
       "   # Transactions  \n",
       "0               3  \n",
       "1              23  \n",
       "2               1  \n",
       "3               1  \n",
       "4               1  "
      ]
     },
     "execution_count": 4,
     "metadata": {},
     "output_type": "execute_result"
    }
   ],
   "source": [
    "registered.head()"
   ]
  },
  {
   "cell_type": "markdown",
   "metadata": {},
   "source": [
    "## Rechtspersoon (M) of Natuurlijke persoon (P)"
   ]
  },
  {
   "cell_type": "code",
   "execution_count": 132,
   "metadata": {
    "collapsed": false
   },
   "outputs": [
    {
     "data": {
      "text/plain": [
       "[<matplotlib.text.Text at 0x7f46295d2350>,\n",
       " <matplotlib.text.Text at 0x7f46295db990>]"
      ]
     },
     "execution_count": 132,
     "metadata": {},
     "output_type": "execute_result"
    },
    {
     "data": {
      "image/png": "[encoded data removed]",
      "text/plain": [
       "<matplotlib.figure.Figure at 0x7f462989e210>"
      ]
     },
     "metadata": {},
     "output_type": "display_data"
    }
   ],
   "source": [
    "(100*registered.groupby('Titular Type')['Titular Type'].count()/(len(registered))).plot(kind='bar')\n",
    "plt.ylabel('% aantal wagens')\n",
    "plt.xlabel(' ')\n",
    "plt.gca().set_xticklabels(['Rechtsperson', 'Natuurlijk persoon'])"
   ]
  },
  {
   "cell_type": "markdown",
   "metadata": {},
   "source": [
    "### Enkel voor Vlaanderen"
   ]
  },
  {
   "cell_type": "code",
   "execution_count": 40,
   "metadata": {
    "collapsed": false
   },
   "outputs": [
    {
     "data": {
      "text/plain": [
       "[<matplotlib.text.Text at 0x7f462f42ded0>,\n",
       " <matplotlib.text.Text at 0x7f462f499610>]"
      ]
     },
     "execution_count": 40,
     "metadata": {},
     "output_type": "execute_result"
    },
    {
     "data": {
      "image/png": "[encoded data removed]",
      "text/plain": [
       "<matplotlib.figure.Figure at 0x7f462f4f5510>"
      ]
     },
     "metadata": {},
     "output_type": "display_data"
    }
   ],
   "source": [
    "VL_registered = registered[registered['Region Gewest'] == 'VLA']\n",
    "(100*VL_registered.groupby('Titular Type')['Titular Type'].count()/(len(VL_registered))).plot(kind='barh', )\n",
    "plt.xlabel('% aantal wagens')\n",
    "plt.ylabel(' ')\n",
    "plt.gca().set_yticklabels(['Rechtsperson', 'Natuurlijk persoon'])"
   ]
  },
  {
   "cell_type": "code",
   "execution_count": 61,
   "metadata": {
    "collapsed": false
   },
   "outputs": [],
   "source": [
    "titular_gewest = registered.groupby('Region Gewest')['Titular Type'].value_counts(normalize=True).unstack().drop('N A')"
   ]
  },
  {
   "cell_type": "code",
   "execution_count": 128,
   "metadata": {
    "collapsed": false
   },
   "outputs": [
    {
     "data": {
      "text/html": [
       "<div style=\"max-height:1000px;max-width:1500px;overflow:auto;\">\n",
       "<table border=\"1\" class=\"dataframe\">\n",
       "  <thead>\n",
       "    <tr style=\"text-align: right;\">\n",
       "      <th></th>\n",
       "      <th>M</th>\n",
       "      <th>P</th>\n",
       "    </tr>\n",
       "    <tr>\n",
       "      <th>Region Gewest</th>\n",
       "      <th></th>\n",
       "      <th></th>\n",
       "    </tr>\n",
       "  </thead>\n",
       "  <tbody>\n",
       "    <tr>\n",
       "      <th>BRU</th>\n",
       "      <td>0.582969</td>\n",
       "      <td>0.417031</td>\n",
       "    </tr>\n",
       "    <tr>\n",
       "      <th>VLA</th>\n",
       "      <td>0.519986</td>\n",
       "      <td>0.480014</td>\n",
       "    </tr>\n",
       "    <tr>\n",
       "      <th>WAL</th>\n",
       "      <td>0.439105</td>\n",
       "      <td>0.560895</td>\n",
       "    </tr>\n",
       "  </tbody>\n",
       "</table>\n",
       "</div>"
      ],
      "text/plain": [
       "                      M         P\n",
       "Region Gewest                    \n",
       "BRU            0.582969  0.417031\n",
       "VLA            0.519986  0.480014\n",
       "WAL            0.439105  0.560895"
      ]
     },
     "execution_count": 128,
     "metadata": {},
     "output_type": "execute_result"
    }
   ],
   "source": [
    "titular_gewest"
   ]
  },
  {
   "cell_type": "code",
   "execution_count": 131,
   "metadata": {
    "collapsed": false
   },
   "outputs": [
    {
     "data": {
      "image/png": "[encoded data removed]",
      "text/plain": [
       "<matplotlib.figure.Figure at 0x7f462973bbd0>"
      ]
     },
     "metadata": {},
     "output_type": "display_data"
    }
   ],
   "source": [
    "fig, ax  = plt.subplots()\n",
    "titular_gewest.plot(ax=ax, kind='barh', stacked=True, legend=False, \n",
    "                    fontsize=14)\n",
    "ax.set_yticks([0,1,2])\n",
    "ax.legend(['Rechtspersoon', 'Natuurlijk persoon'], loc='center', \n",
    "          bbox_to_anchor=(0.5, 0.95), fontsize=14, ncol=2)\n",
    "ax.set_xlabel('%', fontsize=14)\n",
    "ax.set_ylabel(' ')\n",
    "ax.set_axis_bgcolor('white')\n",
    "fig.suptitle('Inschrijvingen 2014 per gewest', size=14)\n",
    "plt.savefig('inschrijvingen_2014_titularis.png', dpi=150)"
   ]
  },
  {
   "cell_type": "markdown",
   "metadata": {},
   "source": [
    "## Number of registrations per province"
   ]
  },
  {
   "cell_type": "code",
   "execution_count": 5,
   "metadata": {
    "collapsed": false
   },
   "outputs": [
    {
     "data": {
      "text/plain": [
       "Index([u'Transaction Timest Year', u'Transaction Timest Month Code', u'New/Used Vehicle', u'Region Gewest', u'Province_label', u'Titular Type', u'Vehicle grouping by Design', u'Vehicle grouping by use', u'Exact Value Maxmass Cat', u'Fk M Vehicle Buildupcode Current Situation', u'Buildup Label current situation', u'Vehicle Euro Norm Code', u'CO2 Category', u'Vehicle Fuel Code', u'Vehicle Fuel Label', u'# Transactions'], dtype='object')"
      ]
     },
     "execution_count": 5,
     "metadata": {},
     "output_type": "execute_result"
    }
   ],
   "source": [
    "registered.columns"
   ]
  },
  {
   "cell_type": "code",
   "execution_count": 6,
   "metadata": {
    "collapsed": false
   },
   "outputs": [
    {
     "data": {
      "text/plain": [
       "<matplotlib.axes._subplots.AxesSubplot at 0x7f464fa7e650>"
      ]
     },
     "execution_count": 6,
     "metadata": {},
     "output_type": "execute_result"
    },
    {
     "data": {
      "image/png": "[encoded data removed]",
      "text/plain": [
       "<matplotlib.figure.Figure at 0x7f464fa7ebd0>"
      ]
     },
     "metadata": {},
     "output_type": "display_data"
    }
   ],
   "source": [
    "registered.groupby('Province_label')['Province_label'].count().plot(kind='bar')"
   ]
  },
  {
   "cell_type": "markdown",
   "metadata": {},
   "source": [
    "### Splitting new and second hand vehicles"
   ]
  },
  {
   "cell_type": "code",
   "execution_count": 376,
   "metadata": {
    "collapsed": true
   },
   "outputs": [],
   "source": [
    "new_vehicle = registered[registered['New/Used Vehicle'] == 'New Vehicle']\n",
    "old_vehicle = registered[registered['New/Used Vehicle'] == 'Used Vehicle']"
   ]
  },
  {
   "cell_type": "code",
   "execution_count": 377,
   "metadata": {
    "collapsed": false
   },
   "outputs": [
    {
     "data": {
      "text/plain": [
       "AGRI-VEHICLE           3494\n",
       "BUS                     739\n",
       "CAMION                 6752\n",
       "CAMPER                 2203\n",
       "CAR                    5588\n",
       "CARAVAN                 815\n",
       "HEAVY 2-3-4 W          2066\n",
       "LIGHT 2-3-4 W           986\n",
       "NOT CLASSIFIED YET      156\n",
       "ROAD TRACTOR           1242\n",
       "S-TRAILER              1896\n",
       "SPECIAL USE            1674\n",
       "TRAILER                4460\n",
       "VAN                   12085\n",
       "dtype: int64"
      ]
     },
     "execution_count": 377,
     "metadata": {},
     "output_type": "execute_result"
    }
   ],
   "source": [
    "old_vehicle['Vehicle grouping by use'].value_counts().sort_index()"
   ]
  },
  {
   "cell_type": "code",
   "execution_count": 378,
   "metadata": {
    "collapsed": false
   },
   "outputs": [
    {
     "data": {
      "text/plain": [
       "AGRI-VEHICLE     2185\n",
       "BUS               417\n",
       "CAMION           2280\n",
       "CAMPER            635\n",
       "CAR                89\n",
       "CARAVAN           280\n",
       "HEAVY 2-3-4 W     638\n",
       "LIGHT 2-3-4 W     369\n",
       "ROAD TRACTOR      332\n",
       "S-TRAILER        1245\n",
       "SPECIAL USE       744\n",
       "TRAILER          3001\n",
       "VAN                46\n",
       "dtype: int64"
      ]
     },
     "execution_count": 378,
     "metadata": {},
     "output_type": "execute_result"
    }
   ],
   "source": [
    "new_vehicle['Vehicle grouping by use'].value_counts().sort_index()"
   ]
  },
  {
   "cell_type": "code",
   "execution_count": 381,
   "metadata": {
    "collapsed": false
   },
   "outputs": [],
   "source": [
    "temp = pd.concat((old_vehicle['Vehicle grouping by use'].value_counts(), \n",
    "                  new_vehicle['Vehicle grouping by use'].value_counts()),\n",
    "                keys=['old', 'new'], axis=1)"
   ]
  },
  {
   "cell_type": "code",
   "execution_count": 382,
   "metadata": {
    "collapsed": false
   },
   "outputs": [
    {
     "data": {
      "text/plain": [
       "<matplotlib.text.Text at 0x7f313b3d2610>"
      ]
     },
     "execution_count": 382,
     "metadata": {},
     "output_type": "execute_result"
    },
    {
     "data": {
      "image/png": "[encoded data removed]",
      "text/plain": [
       "<matplotlib.figure.Figure at 0x7f313a777810>"
      ]
     },
     "metadata": {},
     "output_type": "display_data"
    }
   ],
   "source": [
    "temp.plot(kind='bar')\n",
    "plt.title('Number of registered vehicles grouped by use and splitted by used/new')"
   ]
  },
  {
   "cell_type": "markdown",
   "metadata": {},
   "source": [
    "Without being an expert on the car business, some interesting observations:\n",
    "\n",
    "* A lot, really a lot, of second-hand vans are registered?\n",
    "* Almost no new cars are registered (where are newly produced cars going to?)\n",
    "* Probably the HEAVY and LIGHT 2-3-4 W are the famous SUV-cars?\n",
    "* Unless the decreasing amount of farms in Belgium, more agricultural vehicles and tractors are registered than cars?\n",
    "\n",
    "Anyone can help/clarify on this?"
   ]
  },
  {
   "cell_type": "markdown",
   "metadata": {},
   "source": [
    "Let's explore some other aspects visually:"
   ]
  },
  {
   "cell_type": "markdown",
   "metadata": {},
   "source": [
    "Amount of new and old vehicles for each region:"
   ]
  },
  {
   "cell_type": "code",
   "execution_count": 357,
   "metadata": {
    "collapsed": false
   },
   "outputs": [
    {
     "data": {
      "image/png": "[encoded data removed]",
      "text/plain": [
       "<matplotlib.figure.Figure at 0x7f313c1e5810>"
      ]
     },
     "metadata": {},
     "output_type": "display_data"
    }
   ],
   "source": [
    "g = sns.factorplot(\"Region Gewest\", hue=\"New/Used Vehicle\",\n",
    "                    data=registered, kind=\"bar\",\n",
    "                    size=6, palette=\"muted\")"
   ]
  },
  {
   "cell_type": "markdown",
   "metadata": {},
   "source": [
    "Amount of new and old vehicle for each province:"
   ]
  },
  {
   "cell_type": "code",
   "execution_count": 358,
   "metadata": {
    "collapsed": false
   },
   "outputs": [
    {
     "data": {
      "image/png": "[encoded data removed]",
      "text/plain": [
       "<matplotlib.figure.Figure at 0x7f313ba6bb10>"
      ]
     },
     "metadata": {},
     "output_type": "display_data"
    }
   ],
   "source": [
    "g = sns.factorplot(\"Province_label\", hue=\"New/Used Vehicle\",\n",
    "                    data=registered, kind=\"bar\",\n",
    "                    size=6, palette=\"muted\")\n",
    "xt = plt.xticks(rotation=90) "
   ]
  },
  {
   "cell_type": "markdown",
   "metadata": {},
   "source": [
    "Amount of new and old vehicle for each month:"
   ]
  },
  {
   "cell_type": "code",
   "execution_count": 370,
   "metadata": {
    "collapsed": false
   },
   "outputs": [
    {
     "data": {
      "text/plain": [
       "<seaborn.axisgrid.FacetGrid at 0x7f313b5fc110>"
      ]
     },
     "execution_count": 370,
     "metadata": {},
     "output_type": "execute_result"
    },
    {
     "data": {
      "image/png": "[encoded data removed]",
      "text/plain": [
       "<matplotlib.figure.Figure at 0x7f313b5fc250>"
      ]
     },
     "metadata": {},
     "output_type": "display_data"
    }
   ],
   "source": [
    "g = sns.factorplot(\"Transaction Timest Month Code\", hue=\"New/Used Vehicle\",\n",
    "                    data=registered, kind=\"bar\",\n",
    "                    size=6, palette=\"muted\")\n",
    "g.set_xticklabels(range(1, 13) + ['nan'])"
   ]
  },
  {
   "cell_type": "markdown",
   "metadata": {},
   "source": [
    "For all new vehicles, check the usage"
   ]
  },
  {
   "cell_type": "code",
   "execution_count": 385,
   "metadata": {
    "collapsed": false
   },
   "outputs": [
    {
     "data": {
      "image/png": "[encoded data removed]",
      "text/plain": [
       "<matplotlib.figure.Figure at 0x7f313c378090>"
      ]
     },
     "metadata": {},
     "output_type": "display_data"
    }
   ],
   "source": [
    "g = sns.factorplot('Region Gewest', hue='Vehicle grouping by use',\n",
    "                    data=new_vehicle, kind=\"bar\",\n",
    "                    size=6, palette=\"muted\")\n",
    "xt = plt.xticks(rotation=90) "
   ]
  },
  {
   "cell_type": "markdown",
   "metadata": {},
   "source": [
    "## CO$_2$ characteristics"
   ]
  },
  {
   "cell_type": "code",
   "execution_count": 273,
   "metadata": {
    "collapsed": false
   },
   "outputs": [
    {
     "data": {
      "text/plain": [
       "array([ 99.,  nan])"
      ]
     },
     "execution_count": 273,
     "metadata": {},
     "output_type": "execute_result"
    }
   ],
   "source": [
    "registered['CO2 Category'].unique()"
   ]
  },
  {
   "cell_type": "markdown",
   "metadata": {},
   "source": [
    "Dus alle registraties hebben een categorie 99.?!?"
   ]
  },
  {
   "cell_type": "markdown",
   "metadata": {},
   "source": [
    "## Fuel characteristics"
   ]
  },
  {
   "cell_type": "code",
   "execution_count": 386,
   "metadata": {
    "collapsed": false
   },
   "outputs": [
    {
     "data": {
      "text/plain": [
       "Vehicle Fuel Code  Vehicle Fuel Label \n",
       "01                 BENZINE                 9092\n",
       "02                 GASOLIE                32096\n",
       "03                 LPG + BENZINE           2145\n",
       "04                 ELEKTRICITEIT              3\n",
       "05                 ANDEREN                   73\n",
       "06                 AARDGAS (CNG)             22\n",
       "07                 BENZINE + ELEKTR.         45\n",
       "08                 GASOLIE + ELEKTR.          2\n",
       "09                 WATERSTOF                  1\n",
       "10                 MENGSMERING                1\n",
       "11                 GASOLIE + LPG              4\n",
       "12                 ELEKTRICITEIT + LPG        2\n",
       "13                 BIO-ETHANOL                2\n",
       "15                 BENZINE + CNG              4\n",
       "dtype: int64"
      ]
     },
     "execution_count": 386,
     "metadata": {},
     "output_type": "execute_result"
    }
   ],
   "source": [
    "registered.groupby(['Vehicle Fuel Code','Vehicle Fuel Label']).size()"
   ]
  },
  {
   "cell_type": "code",
   "execution_count": 275,
   "metadata": {
    "collapsed": false
   },
   "outputs": [
    {
     "data": {
      "text/plain": [
       "<matplotlib.axes._subplots.AxesSubplot at 0x7f313cf8e190>"
      ]
     },
     "execution_count": 275,
     "metadata": {},
     "output_type": "execute_result"
    },
    {
     "data": {
      "image/png": "[encoded data removed]",
      "text/plain": [
       "<matplotlib.figure.Figure at 0x7f313d28e3d0>"
      ]
     },
     "metadata": {},
     "output_type": "display_data"
    }
   ],
   "source": [
    "registered.groupby('Vehicle Fuel Label')['Vehicle Fuel Label'].count().plot(kind='barh')"
   ]
  },
  {
   "cell_type": "markdown",
   "metadata": {},
   "source": [
    "Let's zoom in to see also the less-popular options:"
   ]
  },
  {
   "cell_type": "code",
   "execution_count": 276,
   "metadata": {
    "collapsed": false
   },
   "outputs": [
    {
     "data": {
      "image/png": "[encoded data removed]",
      "text/plain": [
       "<matplotlib.figure.Figure at 0x7f313d563a90>"
      ]
     },
     "metadata": {},
     "output_type": "display_data"
    }
   ],
   "source": [
    "fig, ax = plt.subplots()\n",
    "registered.groupby('Vehicle Fuel Label')['Vehicle Fuel Label'].count().plot(ax=ax, kind='barh')\n",
    "ax.set_xlim([0, 100]);"
   ]
  },
  {
   "cell_type": "markdown",
   "metadata": {},
   "source": [
    "### How popular are electric cars?"
   ]
  },
  {
   "cell_type": "markdown",
   "metadata": {},
   "source": [
    "Let's take together all the cars with elektricity to make the comparison easier. First, an overview of the fule characteristics for each type of vehicle:"
   ]
  },
  {
   "cell_type": "code",
   "execution_count": 387,
   "metadata": {
    "collapsed": false
   },
   "outputs": [
    {
     "data": {
      "text/plain": [
       "Vehicle grouping by use                     \n",
       "AGRI-VEHICLE             GASOLIE                5053\n",
       "                         BENZINE                 439\n",
       "                         ANDEREN                  52\n",
       "                         LPG + BENZINE             6\n",
       "                         BIO-ETHANOL               1\n",
       "BUS                      GASOLIE                1154\n",
       "                         BENZINE                   2\n",
       "CAMION                   GASOLIE                8911\n",
       "                         BENZINE                  85\n",
       "                         LPG + BENZINE            26\n",
       "                         AARDGAS (CNG)             6\n",
       "                         GASOLIE + ELEKTR.         2\n",
       "                         ANDEREN                   1\n",
       "                         BENZINE + CNG             1\n",
       "CAMPER                   GASOLIE                2476\n",
       "                         BENZINE                 181\n",
       "                         LPG + BENZINE           177\n",
       "                         AARDGAS (CNG)             1\n",
       "                         BENZINE + ELEKTR.         1\n",
       "                         BENZINE + CNG             1\n",
       "CAR                      BENZINE                2609\n",
       "                         GASOLIE                2433\n",
       "                         LPG + BENZINE           565\n",
       "                         BENZINE + ELEKTR.        43\n",
       "                         ANDEREN                  11\n",
       "                         AARDGAS (CNG)             4\n",
       "                         ELEKTRICITEIT             2\n",
       "                         MENGSMERING               1\n",
       "                         WATERSTOF                 1\n",
       "                         BENZINE + CNG             1\n",
       "                         BIO-ETHANOL               1\n",
       "HEAVY 2-3-4 W            BENZINE                2547\n",
       "                         GASOLIE                  40\n",
       "                         LPG + BENZINE             8\n",
       "                         ELEKTRICITEIT + LPG       2\n",
       "                         GASOLIE + LPG             2\n",
       "                         ELEKTRICITEIT             1\n",
       "                         AARDGAS (CNG)             1\n",
       "LIGHT 2-3-4 W            BENZINE                1226\n",
       "                         GASOLIE                 127\n",
       "                         AARDGAS (CNG)             2\n",
       "ROAD TRACTOR             GASOLIE                1554\n",
       "                         ANDEREN                   9\n",
       "                         BENZINE                   5\n",
       "                         AARDGAS (CNG)             4\n",
       "                         LPG + BENZINE             1\n",
       "                         GASOLIE + LPG             1\n",
       "S-TRAILER                GASOLIE                   3\n",
       "SPECIAL USE              GASOLIE                1338\n",
       "                         BENZINE                 202\n",
       "                         LPG + BENZINE            41\n",
       "VAN                      GASOLIE                9007\n",
       "                         BENZINE                1796\n",
       "                         LPG + BENZINE          1321\n",
       "                         AARDGAS (CNG)             4\n",
       "                         BENZINE + ELEKTR.         1\n",
       "                         GASOLIE + LPG             1\n",
       "                         BENZINE + CNG             1\n",
       "Length: 58, dtype: int64"
      ]
     },
     "execution_count": 387,
     "metadata": {},
     "output_type": "execute_result"
    }
   ],
   "source": [
    "registered.groupby(['Vehicle grouping by use'])['Vehicle Fuel Label'].value_counts()"
   ]
  },
  {
   "cell_type": "code",
   "execution_count": 300,
   "metadata": {
    "collapsed": false
   },
   "outputs": [
    {
     "data": {
      "text/plain": [
       "array([u'HEAVY 2-3-4 W', u'CAR', u'BUS', u'CAMION', u'ROAD TRACTOR',\n",
       "       u'SPECIAL USE', u'S-TRAILER', u'TRAILER', u'AGRI-VEHICLE',\n",
       "       u'CAMPER', u'CARAVAN', u'LIGHT 2-3-4 W', u'VAN',\n",
       "       u'NOT CLASSIFIED YET', nan], dtype=object)"
      ]
     },
     "execution_count": 300,
     "metadata": {},
     "output_type": "execute_result"
    }
   ],
   "source": [
    "registered['Vehicle grouping by use'].unique()"
   ]
  },
  {
   "cell_type": "markdown",
   "metadata": {},
   "source": [
    "Let's make a 'car_alike' category, that combines a few types of vehicles:\n",
    "\n",
    "* car\n",
    "* heavy 2-3-4 W\n",
    "* light 2-3-4 W\n",
    "* van"
   ]
  },
  {
   "cell_type": "code",
   "execution_count": 388,
   "metadata": {
    "collapsed": true
   },
   "outputs": [],
   "source": [
    "car_alike = registered[registered['Vehicle grouping by use'].isin(['CAR','HEAVY 2-3-4 W','LIGHT 2-3-4 W','VAN'])]"
   ]
  },
  {
   "cell_type": "code",
   "execution_count": 389,
   "metadata": {
    "collapsed": true
   },
   "outputs": [],
   "source": [
    "fuel_label = car_alike.groupby('Vehicle Fuel Label')['Vehicle Fuel Label'].count()"
   ]
  },
  {
   "cell_type": "code",
   "execution_count": 390,
   "metadata": {
    "collapsed": false
   },
   "outputs": [
    {
     "data": {
      "text/plain": [
       "Vehicle Fuel Label\n",
       "AARDGAS (CNG)             11\n",
       "ANDEREN                   11\n",
       "BENZINE                 8178\n",
       "BENZINE + CNG              2\n",
       "BENZINE + ELEKTR.         44\n",
       "BIO-ETHANOL                1\n",
       "ELEKTRICITEIT              3\n",
       "ELEKTRICITEIT + LPG        2\n",
       "GASOLIE                11607\n",
       "GASOLIE + LPG              3\n",
       "LPG + BENZINE           1894\n",
       "MENGSMERING                1\n",
       "WATERSTOF                  1\n",
       "Name: Vehicle Fuel Label, dtype: int64"
      ]
     },
     "execution_count": 390,
     "metadata": {},
     "output_type": "execute_result"
    }
   ],
   "source": [
    "fuel_label"
   ]
  },
  {
   "cell_type": "code",
   "execution_count": 391,
   "metadata": {
    "collapsed": false
   },
   "outputs": [
    {
     "name": "stdout",
     "output_type": "stream",
     "text": [
      "Total number of registered vehicles with electicity is  49 on a total of 21758\n"
     ]
    }
   ],
   "source": [
    "electric = car_alike['Vehicle Fuel Label'].str.contains('ELEK').sum()\n",
    "print 'Total number of registered vehicles with electicity is ', electric, 'on a total of', fuel_label.sum()"
   ]
  },
  {
   "cell_type": "code",
   "execution_count": 392,
   "metadata": {
    "collapsed": false
   },
   "outputs": [],
   "source": [
    "electric_perc = 100*float(electric)/fuel_label.sum()"
   ]
  },
  {
   "cell_type": "code",
   "execution_count": 393,
   "metadata": {
    "collapsed": false
   },
   "outputs": [
    {
     "name": "stdout",
     "output_type": "stream",
     "text": [
      "That makes 0.225 %\n"
     ]
    }
   ],
   "source": [
    "print 'That makes %.3f %%' %electric_perc"
   ]
  },
  {
   "cell_type": "markdown",
   "metadata": {},
   "source": [
    "Let's only compare the new cars:"
   ]
  },
  {
   "cell_type": "markdown",
   "metadata": {},
   "source": [
    "### New electric cars"
   ]
  },
  {
   "cell_type": "code",
   "execution_count": 394,
   "metadata": {
    "collapsed": false
   },
   "outputs": [
    {
     "data": {
      "text/html": [
       "<div style=\"max-height:1000px;max-width:1500px;overflow:auto;\">\n",
       "<table border=\"1\" class=\"dataframe\">\n",
       "  <thead>\n",
       "    <tr style=\"text-align: right;\">\n",
       "      <th></th>\n",
       "      <th>New/Used Vehicle</th>\n",
       "    </tr>\n",
       "    <tr>\n",
       "      <th>New/Used Vehicle</th>\n",
       "      <th></th>\n",
       "    </tr>\n",
       "  </thead>\n",
       "  <tbody>\n",
       "    <tr>\n",
       "      <th>New Vehicle</th>\n",
       "      <td>  1142</td>\n",
       "    </tr>\n",
       "    <tr>\n",
       "      <th>Used Vehicle</th>\n",
       "      <td> 20725</td>\n",
       "    </tr>\n",
       "  </tbody>\n",
       "</table>\n",
       "</div>"
      ],
      "text/plain": [
       "                  New/Used Vehicle\n",
       "New/Used Vehicle                  \n",
       "New Vehicle                   1142\n",
       "Used Vehicle                 20725"
      ]
     },
     "execution_count": 394,
     "metadata": {},
     "output_type": "execute_result"
    }
   ],
   "source": [
    "pd.DataFrame(car_alike.groupby('New/Used Vehicle')['New/Used Vehicle'].count())"
   ]
  },
  {
   "cell_type": "code",
   "execution_count": 395,
   "metadata": {
    "collapsed": true
   },
   "outputs": [],
   "source": [
    "new_car_alike =  car_alike[car_alike['New/Used Vehicle'] == 'New Vehicle']"
   ]
  },
  {
   "cell_type": "code",
   "execution_count": 396,
   "metadata": {
    "collapsed": false
   },
   "outputs": [
    {
     "data": {
      "text/plain": [
       "1"
      ]
     },
     "execution_count": 396,
     "metadata": {},
     "output_type": "execute_result"
    }
   ],
   "source": [
    "# check for missing values:\n",
    "sum(new_car_alike['Vehicle Fuel Label'].isnull())"
   ]
  },
  {
   "cell_type": "markdown",
   "metadata": {},
   "source": [
    "We can check the mapping between code and label columns:"
   ]
  },
  {
   "cell_type": "code",
   "execution_count": 397,
   "metadata": {
    "collapsed": false
   },
   "outputs": [
    {
     "data": {
      "text/plain": [
       "Vehicle Fuel Code  Vehicle Fuel Label\n",
       "01                 BENZINE               938\n",
       "02                 GASOLIE               191\n",
       "03                 LPG + BENZINE           3\n",
       "07                 BENZINE + ELEKTR.       8\n",
       "09                 WATERSTOF               1\n",
       "dtype: int64"
      ]
     },
     "execution_count": 397,
     "metadata": {},
     "output_type": "execute_result"
    }
   ],
   "source": [
    "new_car_alike.groupby(['Vehicle Fuel Code','Vehicle Fuel Label']).size()"
   ]
  },
  {
   "cell_type": "markdown",
   "metadata": {},
   "source": [
    "The codes and the labels do agree."
   ]
  },
  {
   "cell_type": "markdown",
   "metadata": {},
   "source": [
    "Let's check if a code is given when the label is not:"
   ]
  },
  {
   "cell_type": "markdown",
   "metadata": {},
   "source": [
    "Counting the new registered electric cars:"
   ]
  },
  {
   "cell_type": "code",
   "execution_count": 398,
   "metadata": {
    "collapsed": false
   },
   "outputs": [
    {
     "name": "stdout",
     "output_type": "stream",
     "text": [
      "Total number of registered NEW cars with electicity is  8 on a total of 1141\n"
     ]
    }
   ],
   "source": [
    "electric_new = new_car_alike['Vehicle Fuel Label'].str.contains('ELEK').sum()\n",
    "print 'Total number of registered NEW cars with electicity is ', electric_new, 'on a total of', new_car_alike['Vehicle Fuel Label'].count()"
   ]
  },
  {
   "cell_type": "code",
   "execution_count": 400,
   "metadata": {
    "collapsed": false
   },
   "outputs": [
    {
     "name": "stdout",
     "output_type": "stream",
     "text": [
      "That makes 0.701 %!\n"
     ]
    }
   ],
   "source": [
    "electric_new_perc = 100*float(electric_new)/new_car_alike['Vehicle Fuel Label'].count()\n",
    "print 'That makes %.3f %%!' %electric_new_perc"
   ]
  },
  {
   "cell_type": "markdown",
   "metadata": {},
   "source": [
    "## Euro norm"
   ]
  },
  {
   "cell_type": "code",
   "execution_count": 401,
   "metadata": {
    "collapsed": false
   },
   "outputs": [
    {
     "data": {
      "text/plain": [
       "<matplotlib.axes._subplots.AxesSubplot at 0x7f313c378d10>"
      ]
     },
     "execution_count": 401,
     "metadata": {},
     "output_type": "execute_result"
    },
    {
     "data": {
      "image/png": "[encoded data removed]",
      "text/plain": [
       "<matplotlib.figure.Figure at 0x7f313b81d5d0>"
      ]
     },
     "metadata": {},
     "output_type": "display_data"
    }
   ],
   "source": [
    "euro = new_car_alike['Vehicle Euro Norm Code'].value_counts(dropna=False).sort_index()\n",
    "euro.plot(kind='bar')"
   ]
  },
  {
   "cell_type": "markdown",
   "metadata": {},
   "source": [
    "New cars still have mostly a EURO-norm 2 (or 3), which relates to the years 1996 (2000 respectively)?"
   ]
  },
  {
   "cell_type": "markdown",
   "metadata": {},
   "source": [
    "### Euronorm all registered vehicles"
   ]
  },
  {
   "cell_type": "code",
   "execution_count": 405,
   "metadata": {
    "collapsed": false
   },
   "outputs": [
    {
     "data": {
      "image/png": "[encoded data removed]",
      "text/plain": [
       "<matplotlib.figure.Figure at 0x7f313b159c10>"
      ]
     },
     "metadata": {},
     "output_type": "display_data"
    }
   ],
   "source": [
    "euro = registered['Vehicle Euro Norm Code'].value_counts(dropna=False).sort_index()\n",
    "tt = euro.plot(kind='bar')"
   ]
  },
  {
   "cell_type": "markdown",
   "metadata": {},
   "source": [
    "Some observations checking this dataset:\n",
    "\n",
    "* Missing values, so 1 registration has no value\n",
    "* Again, some 'missing values' by empty strings, i.e. cars without a given Norm Code\n",
    "* Values for the norm is given in both arabic and roman numbers\n",
    "* Values are also given in P1, P2,... Are these the same as 1, 2, 3,...?\n",
    "* EEV, after google: \"EEV, enhanced environmentally friendly vehicle\""
   ]
  },
  {
   "cell_type": "markdown",
   "metadata": {},
   "source": [
    "Let's restructure this:\n",
    "\n",
    "* We put everything in 1, 2, 3...\n",
    "* For the ease of usage: 5a and 5b are combined as 5,..."
   ]
  },
  {
   "cell_type": "code",
   "execution_count": 406,
   "metadata": {
    "collapsed": false
   },
   "outputs": [],
   "source": [
    "registered['Vehicle Euro Norm Code'] = registered['Vehicle Euro Norm Code'].str.strip()"
   ]
  },
  {
   "cell_type": "code",
   "execution_count": 407,
   "metadata": {
    "collapsed": false
   },
   "outputs": [
    {
     "data": {
      "text/plain": [
       "array([u'2', u'3', u'5', u'5b', u'V', u'', u'EEV', u'VI', u'P3A', u'P3B',\n",
       "       u'6', u'5a', u'0', u'1', u'4', u'IV', u'P1', u'P2', u'6b', u'II',\n",
       "       u'III', u'6a', u'P4', u'I', nan], dtype=object)"
      ]
     },
     "execution_count": 407,
     "metadata": {},
     "output_type": "execute_result"
    }
   ],
   "source": [
    "registered['Vehicle Euro Norm Code'].unique()"
   ]
  },
  {
   "cell_type": "code",
   "execution_count": 408,
   "metadata": {
    "collapsed": false
   },
   "outputs": [],
   "source": [
    "map_dict = {'I': '1', 'II': '2', 'III': '3', 'IV': '4', 'V': '5', 'VI': '6',\n",
    "            '5a':'5', '5b': '5', 'P1':'1', 'P2':'2', 'P3A':'3', 'P3B':'3', 'P4':'4',\n",
    "            '6a' : '6', '6b': '6', '' : np.nan}"
   ]
  },
  {
   "cell_type": "code",
   "execution_count": 409,
   "metadata": {
    "collapsed": false
   },
   "outputs": [],
   "source": [
    "registered['Vehicle Euro Norm Code'] = registered['Vehicle Euro Norm Code'].replace(map_dict)"
   ]
  },
  {
   "cell_type": "code",
   "execution_count": 410,
   "metadata": {
    "collapsed": false
   },
   "outputs": [
    {
     "data": {
      "text/plain": [
       "<matplotlib.axes._subplots.AxesSubplot at 0x7f313abc0390>"
      ]
     },
     "execution_count": 410,
     "metadata": {},
     "output_type": "execute_result"
    },
    {
     "data": {
      "image/png": "[encoded data removed]",
      "text/plain": [
       "<matplotlib.figure.Figure at 0x7f313dd9eed0>"
      ]
     },
     "metadata": {},
     "output_type": "display_data"
    }
   ],
   "source": [
    "registered['Vehicle Euro Norm Code'].value_counts(dropna=False).sort_index().plot(kind='bar')"
   ]
  },
  {
   "cell_type": "code",
   "execution_count": 262,
   "metadata": {
    "collapsed": false
   },
   "outputs": [],
   "source": []
  },
  {
   "cell_type": "code",
   "execution_count": null,
   "metadata": {
    "collapsed": false
   },
   "outputs": [],
   "source": []
  },
  {
   "cell_type": "code",
   "execution_count": null,
   "metadata": {
    "collapsed": false
   },
   "outputs": [],
   "source": []
  },
  {
   "cell_type": "code",
   "execution_count": null,
   "metadata": {
    "collapsed": true
   },
   "outputs": [],
   "source": []
  }
 ],
 "metadata": {
  "kernelspec": {
   "display_name": "Python 2",
   "language": "python",
   "name": "python2"
  },
  "language_info": {
   "codemirror_mode": {
    "name": "ipython",
    "version": 2
   },
   "file_extension": ".py",
   "mimetype": "text/x-python",
   "name": "python",
   "nbconvert_exporter": "python",
   "pygments_lexer": "ipython2",
   "version": "2.7.9"
  }
 },
 "nbformat": 4,
 "nbformat_minor": 0
}
