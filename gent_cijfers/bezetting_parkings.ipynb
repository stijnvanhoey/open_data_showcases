{
 "cells": [
  {
   "cell_type": "markdown",
   "metadata": {},
   "source": [
    "# Bezettingsgraad parkings Gent"
   ]
  },
  {
   "cell_type": "markdown",
   "metadata": {},
   "source": [
    "created by S. Van Hoey"
   ]
  },
  {
   "cell_type": "code",
   "execution_count": 1,
   "metadata": {
    "collapsed": true
   },
   "outputs": [],
   "source": [
    "%matplotlib inline"
   ]
  },
  {
   "cell_type": "code",
   "execution_count": 41,
   "metadata": {
    "collapsed": true
   },
   "outputs": [],
   "source": [
    "import pandas as pd\n",
    "import seaborn as sns"
   ]
  },
  {
   "cell_type": "code",
   "execution_count": 42,
   "metadata": {
    "collapsed": false
   },
   "outputs": [],
   "source": [
    "bezetting = pd.read_csv(\"bezettingparkeergarages2015.csv\", sep=\";\", parse_dates=[4, 5], \n",
    "                        names=['pid', 'availablecapacity', 'totalcapacity', 'is_open', \n",
    "                               'time', 'to_time'], index_col=4)"
   ]
  },
  {
   "cell_type": "code",
   "execution_count": 43,
   "metadata": {
    "collapsed": false
   },
   "outputs": [
    {
     "data": {
      "text/plain": [
       "pid                          object\n",
       "availablecapacity             int64\n",
       "totalcapacity                 int64\n",
       "is_open                      object\n",
       "to_time              datetime64[ns]\n",
       "dtype: object"
      ]
     },
     "execution_count": 43,
     "metadata": {},
     "output_type": "execute_result"
    }
   ],
   "source": [
    "bezetting.dtypes"
   ]
  },
  {
   "cell_type": "code",
   "execution_count": 44,
   "metadata": {
    "collapsed": false
   },
   "outputs": [
    {
     "data": {
      "text/plain": [
       "array(['P01'], dtype=object)"
      ]
     },
     "execution_count": 44,
     "metadata": {},
     "output_type": "execute_result"
    }
   ],
   "source": [
    "bezetting[\"pid\"].unique()"
   ]
  },
  {
   "cell_type": "markdown",
   "metadata": {},
   "source": [
    "According to http://datatank.gent.be/Mobiliteitsbedrijf/Parkings.about,\n",
    "we only have data from Vrijdagsmarkt..."
   ]
  },
  {
   "cell_type": "code",
   "execution_count": 45,
   "metadata": {
    "collapsed": true
   },
   "outputs": [],
   "source": [
    "bezetting[\"fill\"] = 1. - bezetting[\"availablecapacity\"]/bezetting[\"totalcapacity\"]"
   ]
  },
  {
   "cell_type": "code",
   "execution_count": 48,
   "metadata": {
    "collapsed": false
   },
   "outputs": [
    {
     "data": {
      "text/html": [
       "<div>\n",
       "<table border=\"1\" class=\"dataframe\">\n",
       "  <thead>\n",
       "    <tr style=\"text-align: right;\">\n",
       "      <th></th>\n",
       "      <th>pid</th>\n",
       "      <th>availablecapacity</th>\n",
       "      <th>totalcapacity</th>\n",
       "      <th>is_open</th>\n",
       "      <th>to_time</th>\n",
       "      <th>fill</th>\n",
       "    </tr>\n",
       "    <tr>\n",
       "      <th>time</th>\n",
       "      <th></th>\n",
       "      <th></th>\n",
       "      <th></th>\n",
       "      <th></th>\n",
       "      <th></th>\n",
       "      <th></th>\n",
       "    </tr>\n",
       "  </thead>\n",
       "  <tbody>\n",
       "    <tr>\n",
       "      <th>2015-01-01 16:25:25.216</th>\n",
       "      <td>P01</td>\n",
       "      <td>380</td>\n",
       "      <td>642</td>\n",
       "      <td>t</td>\n",
       "      <td>2015-01-01 16:26:24.209</td>\n",
       "      <td>0.408100</td>\n",
       "    </tr>\n",
       "    <tr>\n",
       "      <th>2015-01-01 16:26:24.209</th>\n",
       "      <td>P01</td>\n",
       "      <td>381</td>\n",
       "      <td>642</td>\n",
       "      <td>t</td>\n",
       "      <td>2015-01-01 16:27:27.588</td>\n",
       "      <td>0.406542</td>\n",
       "    </tr>\n",
       "    <tr>\n",
       "      <th>2015-01-01 16:27:27.588</th>\n",
       "      <td>P01</td>\n",
       "      <td>385</td>\n",
       "      <td>642</td>\n",
       "      <td>t</td>\n",
       "      <td>2015-01-01 16:28:22.201</td>\n",
       "      <td>0.400312</td>\n",
       "    </tr>\n",
       "    <tr>\n",
       "      <th>2015-01-01 16:28:22.201</th>\n",
       "      <td>P01</td>\n",
       "      <td>384</td>\n",
       "      <td>642</td>\n",
       "      <td>t</td>\n",
       "      <td>2015-01-01 16:29:21.221</td>\n",
       "      <td>0.401869</td>\n",
       "    </tr>\n",
       "    <tr>\n",
       "      <th>2015-01-01 16:29:21.221</th>\n",
       "      <td>P01</td>\n",
       "      <td>385</td>\n",
       "      <td>642</td>\n",
       "      <td>t</td>\n",
       "      <td>2015-01-01 16:30:33.464</td>\n",
       "      <td>0.400312</td>\n",
       "    </tr>\n",
       "  </tbody>\n",
       "</table>\n",
       "</div>"
      ],
      "text/plain": [
       "                         pid  availablecapacity  totalcapacity is_open  \\\n",
       "time                                                                     \n",
       "2015-01-01 16:25:25.216  P01                380            642       t   \n",
       "2015-01-01 16:26:24.209  P01                381            642       t   \n",
       "2015-01-01 16:27:27.588  P01                385            642       t   \n",
       "2015-01-01 16:28:22.201  P01                384            642       t   \n",
       "2015-01-01 16:29:21.221  P01                385            642       t   \n",
       "\n",
       "                                        to_time      fill  \n",
       "time                                                       \n",
       "2015-01-01 16:25:25.216 2015-01-01 16:26:24.209  0.408100  \n",
       "2015-01-01 16:26:24.209 2015-01-01 16:27:27.588  0.406542  \n",
       "2015-01-01 16:27:27.588 2015-01-01 16:28:22.201  0.400312  \n",
       "2015-01-01 16:28:22.201 2015-01-01 16:29:21.221  0.401869  \n",
       "2015-01-01 16:29:21.221 2015-01-01 16:30:33.464  0.400312  "
      ]
     },
     "execution_count": 48,
     "metadata": {},
     "output_type": "execute_result"
    }
   ],
   "source": [
    "bezetting.tail()"
   ]
  },
  {
   "cell_type": "code",
   "execution_count": 55,
   "metadata": {
    "collapsed": false
   },
   "outputs": [
    {
     "data": {
      "text/plain": [
       "<matplotlib.axes._subplots.AxesSubplot at 0x7f3c69a07290>"
      ]
     },
     "execution_count": 55,
     "metadata": {},
     "output_type": "execute_result"
    },
    {
     "data": {
      "image/png": "[encoded data removed]",
      "text/plain": [
       "<matplotlib.figure.Figure at 0x7f3c69a53310>"
      ]
     },
     "metadata": {},
     "output_type": "display_data"
    }
   ],
   "source": [
    "bezetting['fill'].plot()"
   ]
  },
  {
   "cell_type": "code",
   "execution_count": null,
   "metadata": {
    "collapsed": true
   },
   "outputs": [],
   "source": []
  },
  {
   "cell_type": "code",
   "execution_count": null,
   "metadata": {
    "collapsed": true
   },
   "outputs": [],
   "source": []
  }
 ],
 "metadata": {
  "kernelspec": {
   "display_name": "Python 2",
   "language": "python",
   "name": "python2"
  },
  "language_info": {
   "codemirror_mode": {
    "name": "ipython",
    "version": 2
   },
   "file_extension": ".py",
   "mimetype": "text/x-python",
   "name": "python",
   "nbconvert_exporter": "python",
   "pygments_lexer": "ipython2",
   "version": "2.7.10"
  }
 },
 "nbformat": 4,
 "nbformat_minor": 0
}
